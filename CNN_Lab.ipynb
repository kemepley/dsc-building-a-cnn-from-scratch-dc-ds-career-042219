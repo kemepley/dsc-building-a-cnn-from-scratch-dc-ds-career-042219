{
 "cells": [
  {
   "cell_type": "markdown",
   "metadata": {},
   "source": [
    "# Building a CNN from Scratch - Lab\n",
    "\n",
    "## Introduction\n",
    "\n",
    "Now that you have background knowledge regarding how CNNs work and how to implement them via Keras, its time to practice those skills a little more independently in order to build a CNN on your own to solve a image recognition problem. In this lab, you'll practice building an image classifier from start to finish using a CNN.  \n",
    "\n",
    "## Objectives\n",
    "\n",
    "You will be able to:\n",
    "* Transform images into tensors\n",
    "* Build a CNN model for image recognition"
   ]
  },
  {
   "cell_type": "markdown",
   "metadata": {},
   "source": [
    "## Loading the Images\n",
    "\n",
    "The data for this lab concerns classifying lung xray images for pneumonia. The original dataset is from kaggle. We have downsampled this dataset in order to reduce training time for you when you design and fit your model to the data. It is anticipated that this process will take approximately 1 hour to run on a standard machine, although times will vary depending on your particular computer and set up. At the end of this lab, you are welcome to try training on the complete dataset and observe the impact on the model's overall accuracy. \n",
    "\n",
    "You can find the initial downsampled dataset in a subdirectory, **chest_xray**, of this repository."
   ]
  },
  {
   "cell_type": "code",
   "execution_count": 2,
   "metadata": {},
   "outputs": [
    {
     "name": "stderr",
     "output_type": "stream",
     "text": [
      "Using TensorFlow backend.\n"
     ]
    }
   ],
   "source": [
    "import matplotlib.pyplot as plt\n",
    "%matplotlib inline\n",
    "import scipy\n",
    "import numpy as np\n",
    "from PIL import Image\n",
    "from scipy import ndimage\n",
    "from keras.preprocessing.image import ImageDataGenerator, array_to_img, img_to_array, load_img"
   ]
  },
  {
   "cell_type": "code",
   "execution_count": 8,
   "metadata": {},
   "outputs": [
    {
     "name": "stdout",
     "output_type": "stream",
     "text": [
      "Found 1738 images belonging to 2 classes.\n",
      "Found 4 images belonging to 2 classes.\n"
     ]
    }
   ],
   "source": [
    "#Your code here; load the images; be sure to also preprocess these into tensors.\n",
    "# get all the data in the directory split/test (180 images), and reshape them\n",
    "train_dir = 'chest_xray_downsampled/train'\n",
    "validation_dir = 'chest_xray_downsampled/val/'\n",
    "test_dir = 'chest_xray_downsampled/test/'\n",
    "\n",
    "train_datagen = ImageDataGenerator(rescale=1./255)\n",
    "test_datagen = ImageDataGenerator(rescale=1./255)\n",
    "\n",
    "train_generator = train_datagen.flow_from_directory(\n",
    "        train_dir,\n",
    "        target_size=(150, 150),\n",
    "        batch_size=20,\n",
    "        class_mode='binary')\n",
    "\n",
    "val_generator = train_datagen.flow_from_directory(\n",
    "        validation_dir,\n",
    "        target_size=(150, 150),\n",
    "        batch_size=20,\n",
    "        class_mode='binary')\n"
   ]
  },
  {
   "cell_type": "markdown",
   "metadata": {},
   "source": [
    "## Designing the Model\n",
    "\n",
    "Now it's time to design your CNN! Remember a few things when doing this: \n",
    "* You should alternate convolutional and pooling layers\n",
    "* You should have later layers have a larger number of parameters in order to detect more abstract patterns\n",
    "* Add some final dense layers to add a classifier to the convolutional base"
   ]
  },
  {
   "cell_type": "code",
   "execution_count": 15,
   "metadata": {},
   "outputs": [],
   "source": [
    "#Your code here; design and compile the model\n",
    "from keras import models\n",
    "from keras import layers\n",
    "from keras import optimizers\n",
    "\n",
    "model = models.Sequential()\n",
    "model.add(layers.Conv2D(32, (3, 3), activation='relu', input_shape=(150,150,3)))\n",
    "model.add(layers.MaxPooling2D((2, 2)))\n",
    "\n",
    "model.add(layers.Conv2D(64, (3, 3), activation='relu'))\n",
    "model.add(layers.MaxPooling2D((2, 2)))\n",
    "\n",
    "model.add(layers.Conv2D(64, (3, 3), activation='relu'))\n",
    "model.add(layers.MaxPooling2D((2, 2)))\n",
    "\n",
    "model.add(layers.Conv2D(128, (3, 3), activation='relu'))\n",
    "model.add(layers.MaxPooling2D((2, 2)))\n",
    "\n",
    "model.add(layers.Flatten())\n",
    "model.add(layers.Dense(512, activation='relu'))\n",
    "model.add(layers.Dense(1, activation='sigmoid'))\n",
    "\n",
    "model.compile(loss='binary_crossentropy',\n",
    "              optimizer=\"sgd\",\n",
    "              metrics=['acc'])"
   ]
  },
  {
   "cell_type": "markdown",
   "metadata": {},
   "source": [
    "## Training and Evaluating the Model\n",
    "\n",
    "Remember that training deep networks is resource intensive: depending on the size of the data, even a CNN with 3-4 successive convolutional and pooling layers is apt to take a hours to train on a high end laptop. Using 30 epochs and 8 layers (alternating between convolutional and pooling), our model took about 40 minutes to run on a year old macbook pro.\n",
    "\n",
    "\n",
    "If you are concerned with runtime, you may want to set your model to run the training epochs overnight.  \n",
    "\n",
    "**If you are going to run this process overnight, be sure to also script code for the following questions concerning data augmentation. Check your code twice (or more) and then set the notebook to run all, or something equivalent to have them train overnight.**"
   ]
  },
  {
   "cell_type": "code",
   "execution_count": null,
   "metadata": {},
   "outputs": [],
   "source": []
  },
  {
   "cell_type": "code",
   "execution_count": 16,
   "metadata": {},
   "outputs": [
    {
     "name": "stdout",
     "output_type": "stream",
     "text": [
      "Epoch 1/30\n",
      "100/100 [==============================] - 75s 747ms/step - loss: 0.5881 - acc: 0.7345 - val_loss: 0.7744 - val_acc: 0.5000\n",
      "Epoch 2/30\n",
      "100/100 [==============================] - 71s 707ms/step - loss: 0.5598 - acc: 0.7426 - val_loss: 0.7407 - val_acc: 0.5000\n",
      "Epoch 3/30\n",
      "100/100 [==============================] - 72s 721ms/step - loss: 0.5040 - acc: 0.7722 - val_loss: 0.6651 - val_acc: 0.2500\n",
      "Epoch 4/30\n",
      "100/100 [==============================] - 73s 732ms/step - loss: 0.4555 - acc: 0.7858 - val_loss: 0.6473 - val_acc: 0.5000\n",
      "Epoch 5/30\n",
      "100/100 [==============================] - 77s 770ms/step - loss: 0.3965 - acc: 0.8359 - val_loss: 1.2376 - val_acc: 0.5000\n",
      "Epoch 6/30\n",
      "100/100 [==============================] - 76s 758ms/step - loss: 0.3013 - acc: 0.8708 - val_loss: 1.0539 - val_acc: 0.7500\n",
      "Epoch 7/30\n",
      "100/100 [==============================] - 65s 646ms/step - loss: 0.2291 - acc: 0.9028 - val_loss: 0.5802 - val_acc: 0.7500\n",
      "Epoch 8/30\n",
      "100/100 [==============================] - 68s 682ms/step - loss: 0.2037 - acc: 0.9194 - val_loss: 0.6929 - val_acc: 0.7500\n",
      "Epoch 9/30\n",
      "100/100 [==============================] - 63s 633ms/step - loss: 0.1842 - acc: 0.9284 - val_loss: 0.3439 - val_acc: 1.0000\n",
      "Epoch 10/30\n",
      "100/100 [==============================] - 63s 627ms/step - loss: 0.1596 - acc: 0.9359 - val_loss: 0.5406 - val_acc: 0.5000\n",
      "Epoch 11/30\n",
      "100/100 [==============================] - 62s 617ms/step - loss: 0.1428 - acc: 0.9469 - val_loss: 1.1070 - val_acc: 0.5000\n",
      "Epoch 12/30\n",
      "100/100 [==============================] - 62s 616ms/step - loss: 0.1536 - acc: 0.9410 - val_loss: 0.7388 - val_acc: 0.5000\n",
      "Epoch 13/30\n",
      "100/100 [==============================] - 2877s 29s/step - loss: 0.1181 - acc: 0.9515 - val_loss: 0.4254 - val_acc: 0.5000\n",
      "Epoch 14/30\n",
      "100/100 [==============================] - 63s 626ms/step - loss: 0.1282 - acc: 0.9478 - val_loss: 0.9677 - val_acc: 0.5000\n",
      "Epoch 15/30\n",
      "100/100 [==============================] - 70s 695ms/step - loss: 0.1107 - acc: 0.9553 - val_loss: 0.7117 - val_acc: 0.5000\n",
      "Epoch 16/30\n",
      "100/100 [==============================] - 68s 685ms/step - loss: 0.1143 - acc: 0.9550 - val_loss: 0.1524 - val_acc: 1.0000\n",
      "Epoch 17/30\n",
      "100/100 [==============================] - 62s 617ms/step - loss: 0.1045 - acc: 0.9599 - val_loss: 1.1419 - val_acc: 0.5000\n",
      "Epoch 18/30\n",
      "100/100 [==============================] - 61s 615ms/step - loss: 0.0918 - acc: 0.9615 - val_loss: 1.0363 - val_acc: 0.5000\n",
      "Epoch 19/30\n",
      "100/100 [==============================] - 62s 619ms/step - loss: 0.0917 - acc: 0.9619 - val_loss: 0.3282 - val_acc: 0.7500\n",
      "Epoch 20/30\n",
      "100/100 [==============================] - 61s 611ms/step - loss: 0.0972 - acc: 0.9615 - val_loss: 0.5175 - val_acc: 0.7500\n",
      "Epoch 21/30\n",
      "100/100 [==============================] - 62s 619ms/step - loss: 0.0802 - acc: 0.9709 - val_loss: 0.2388 - val_acc: 1.0000\n",
      "Epoch 22/30\n",
      "100/100 [==============================] - 64s 637ms/step - loss: 0.0774 - acc: 0.9714 - val_loss: 0.2041 - val_acc: 1.0000\n",
      "Epoch 23/30\n",
      "100/100 [==============================] - 65s 653ms/step - loss: 0.0799 - acc: 0.9729 - val_loss: 0.3120 - val_acc: 0.7500\n",
      "Epoch 24/30\n",
      "100/100 [==============================] - 66s 659ms/step - loss: 0.0654 - acc: 0.9759 - val_loss: 0.3244 - val_acc: 0.7500\n",
      "Epoch 25/30\n",
      "100/100 [==============================] - 65s 647ms/step - loss: 0.0779 - acc: 0.9710 - val_loss: 0.6219 - val_acc: 0.5000\n",
      "Epoch 26/30\n",
      "100/100 [==============================] - 66s 656ms/step - loss: 0.0774 - acc: 0.9700 - val_loss: 0.8920 - val_acc: 0.5000\n",
      "Epoch 27/30\n",
      "100/100 [==============================] - 61s 612ms/step - loss: 0.0629 - acc: 0.9774 - val_loss: 0.4795 - val_acc: 0.7500\n",
      "Epoch 28/30\n",
      "100/100 [==============================] - 62s 622ms/step - loss: 0.0623 - acc: 0.9769 - val_loss: 0.8283 - val_acc: 0.5000\n",
      "Epoch 29/30\n",
      "100/100 [==============================] - 71s 707ms/step - loss: 0.0576 - acc: 0.9775 - val_loss: 0.4106 - val_acc: 0.7500\n",
      "Epoch 30/30\n",
      "100/100 [==============================] - 65s 651ms/step - loss: 0.0735 - acc: 0.9730 - val_loss: 0.3171 - val_acc: 0.7500\n"
     ]
    }
   ],
   "source": [
    "#Set the model to train; see warnings above\n",
    "\n",
    "history = model.fit_generator(train_generator,\n",
    "                    steps_per_epoch=100,\n",
    "                    epochs = 30,\n",
    "                    validation_data=val_generator,\n",
    "                    validation_steps = 50)"
   ]
  },
  {
   "cell_type": "code",
   "execution_count": 28,
   "metadata": {},
   "outputs": [
    {
     "data": {
      "text/plain": [
       "<matplotlib.legend.Legend at 0xb31c5da90>"
      ]
     },
     "execution_count": 28,
     "metadata": {},
     "output_type": "execute_result"
    },
    {
     "data": {
      "image/png": "[encoded data removed]",
      "text/plain": [
       "<Figure size 360x216 with 1 Axes>"
      ]
     },
     "metadata": {
      "needs_background": "light"
     },
     "output_type": "display_data"
    },
    {
     "data": {
      "image/png": "[encoded data removed]",
      "text/plain": [
       "<Figure size 360x216 with 1 Axes>"
      ]
     },
     "metadata": {
      "needs_background": "light"
     },
     "output_type": "display_data"
    }
   ],
   "source": [
    "# Plot history\n",
    "\n",
    "val_loss = history.history['val_loss']\n",
    "val_acc = history.history['val_acc']\n",
    "loss = history.history['loss']\n",
    "acc = history.history['acc']\n",
    "plt.figure(figsize=(5,3))\n",
    "plt.plot(val_loss, label=\"validation loss\")\n",
    "plt.legend()\n",
    "plt.plot(val_acc, label=\"validation accuracy\")\n",
    "plt.legend()\n",
    "plt.figure(figsize=(5,3))\n",
    "plt.plot(loss, label=\"training loss\")\n",
    "plt.legend()\n",
    "plt.plot(acc, label=\"training accuracy\")\n",
    "plt.legend()"
   ]
  },
  {
   "cell_type": "markdown",
   "metadata": {},
   "source": [
    "## Save the Model"
   ]
  },
  {
   "cell_type": "code",
   "execution_count": 29,
   "metadata": {},
   "outputs": [],
   "source": [
    "#Your code here; save the model for future reference.\n",
    "model.save('homework_cnn.model')"
   ]
  },
  {
   "cell_type": "markdown",
   "metadata": {},
   "source": [
    "## Data Augmentation\n",
    "\n",
    "Recall that data augmentation is typically always a necessary step when using a small dataset as this one which you have been provided. As such, if you haven't already, implement a data augmentation setup.\n",
    "\n",
    "**Warning: This process took nearly 4 hours to run on a relatively new macbook pro. As such, it is recommended that you simply code the setup and compare to the solution branch, or set the process to run overnight if you do choose to actually run the code.**"
   ]
  },
  {
   "cell_type": "code",
   "execution_count": 31,
   "metadata": {},
   "outputs": [
    {
     "name": "stdout",
     "output_type": "stream",
     "text": [
      "Found 4 images belonging to 2 classes.\n",
      "Found 1738 images belonging to 2 classes.\n"
     ]
    }
   ],
   "source": [
    "#Add data augmentation to the model setup and set the model to train; \n",
    "#See warnings above if you intend to run this block of code\n",
    "train_datagen = ImageDataGenerator(rescale=1./255, \n",
    "     rotation_range=40,\n",
    "     width_shift_range=0.2,\n",
    "     height_shift_range=0.2,\n",
    "     shear_range=0.3,\n",
    "     zoom_range=0.1,\n",
    "     horizontal_flip = False)\n",
    "\n",
    "test_datagen = ImageDataGenerator(rescale=1./255)\n",
    "\n",
    "\n",
    "val_generator = test_datagen.flow_from_directory(\n",
    "        validation_dir, \n",
    "        target_size=(150, 150),\n",
    "        batch_size = 32,\n",
    "        class_mode='binary')\n",
    "\n",
    "\n",
    "train_generator = train_datagen.flow_from_directory(\n",
    "        train_dir, \n",
    "        target_size=(150, 150), \n",
    "        batch_size = 32, \n",
    "        class_mode='binary')\n",
    "\n",
    "model = models.Sequential()\n",
    "model.add(layers.Conv2D(32, (3, 3), activation='relu', input_shape=(150,150,3)))\n",
    "model.add(layers.MaxPooling2D((2, 2)))\n",
    "\n",
    "model.add(layers.Conv2D(64, (3, 3), activation='relu'))\n",
    "model.add(layers.MaxPooling2D((2, 2)))\n",
    "\n",
    "model.add(layers.Conv2D(64, (3, 3), activation='relu'))\n",
    "model.add(layers.MaxPooling2D((2, 2)))\n",
    "\n",
    "model.add(layers.Conv2D(128, (3, 3), activation='relu'))\n",
    "model.add(layers.MaxPooling2D((2, 2)))\n",
    "\n",
    "model.add(layers.Flatten())\n",
    "model.add(layers.Dense(512, activation='relu'))\n",
    "model.add(layers.Dense(1, activation='sigmoid'))\n",
    "\n",
    "model.compile(loss='binary_crossentropy',\n",
    "              optimizer=\"sgd\",\n",
    "              metrics=['acc'])\n",
    "\n",
    "history = model.fit_generator(train_generator,\n",
    "                    steps_per_epoch=100,\n",
    "                    epochs = 30,\n",
    "                    validation_data=val_generator,\n",
    "                    validation_steps = 50)"
   ]
  },
  {
   "cell_type": "markdown",
   "metadata": {},
   "source": [
    "## Final Evaluation\n",
    "\n",
    "Now use the test set to perform a final evaluation on your model of choice."
   ]
  },
  {
   "cell_type": "code",
   "execution_count": null,
   "metadata": {},
   "outputs": [],
   "source": [
    "# Your code here; perform a final evaluation using the test set..\n",
    "test_generator = test_datagen.flow_from_directory(\n",
    "        train_dir, \n",
    "        target_size=(150, 150), \n",
    "        batch_size = 32, \n",
    "        class_mode='binary')\n",
    "\n",
    "test_loss, test_acc = model.evaluate_generator(test_generator, steps=50)\n",
    "print('test acc:', test_acc)"
   ]
  },
  {
   "cell_type": "markdown",
   "metadata": {},
   "source": [
    "## Extension: Adding Data to the Model\n",
    "\n",
    "As discussed, the current dataset we worked with is a subset of a dataset hosted on Kaggle. Increasing the data that we use to train the model will result in additional performance gains but will also result in longer training times and be more resource intensive.   \n",
    "\n",
    "It is estimated that training on the full dataset will take approximately 4 hours (and potentially significantly longer) depending on your computer's specifications.\n",
    "\n",
    "In order to test the impact of training on the full dataset, start by downloading the data from kaggle here: https://www.kaggle.com/paultimothymooney/chest-xray-pneumonia.   "
   ]
  },
  {
   "cell_type": "code",
   "execution_count": null,
   "metadata": {},
   "outputs": [],
   "source": [
    "#Optional extension; Your code here"
   ]
  },
  {
   "cell_type": "markdown",
   "metadata": {},
   "source": [
    "## Summary\n",
    "\n",
    "Well done! In this lab, you practice building your own CNN for image recognition which drastically outperformed our previous attempts using a standard deep learning model alone. In the upcoming sections, we'll continue to investigate further techniques associated with CNNs including visualizing the representations they learn and techniques to further bolster their performance when we have limited training data such as here."
   ]
  }
 ],
 "metadata": {
  "kernelspec": {
   "display_name": "Python 3",
   "language": "python",
   "name": "python3"
  },
  "language_info": {
   "codemirror_mode": {
    "name": "ipython",
    "version": 3
   },
   "file_extension": ".py",
   "mimetype": "text/x-python",
   "name": "python",
   "nbconvert_exporter": "python",
   "pygments_lexer": "ipython3",
   "version": "3.7.3"
  }
 },
 "nbformat": 4,
 "nbformat_minor": 2
}
